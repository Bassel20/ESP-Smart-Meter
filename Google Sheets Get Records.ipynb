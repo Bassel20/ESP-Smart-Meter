{
 "cells": [
  {
   "cell_type": "code",
   "execution_count": 9,
   "id": "61a7dbd5",
   "metadata": {},
   "outputs": [],
   "source": [
    "import gspread"
   ]
  },
  {
   "cell_type": "code",
   "execution_count": 10,
   "id": "bc12270e",
   "metadata": {},
   "outputs": [],
   "source": [
    "sa = gspread.service_account(filename=\"smart-meter-sheets-d173cda6b3d4.json\")"
   ]
  },
  {
   "cell_type": "code",
   "execution_count": 11,
   "id": "aa9d1553",
   "metadata": {},
   "outputs": [],
   "source": [
    "sheet = sa.open(\"test1\")"
   ]
  },
  {
   "cell_type": "code",
   "execution_count": 12,
   "id": "5c79030b",
   "metadata": {},
   "outputs": [],
   "source": [
    "work_sheet = sheet.worksheet(\"Sheet1\")"
   ]
  },
  {
   "cell_type": "code",
   "execution_count": 13,
   "id": "ef5147be",
   "metadata": {},
   "outputs": [],
   "source": [
    "import pandas as pd\n",
    "\n",
    "df = pd.DataFrame(work_sheet.get_all_records())"
   ]
  },
  {
   "cell_type": "code",
   "execution_count": 14,
   "id": "8d96dbca",
   "metadata": {},
   "outputs": [
    {
     "data": {
      "text/html": [
       "<div>\n",
       "<style scoped>\n",
       "    .dataframe tbody tr th:only-of-type {\n",
       "        vertical-align: middle;\n",
       "    }\n",
       "\n",
       "    .dataframe tbody tr th {\n",
       "        vertical-align: top;\n",
       "    }\n",
       "\n",
       "    .dataframe thead th {\n",
       "        text-align: right;\n",
       "    }\n",
       "</style>\n",
       "<table border=\"1\" class=\"dataframe\">\n",
       "  <thead>\n",
       "    <tr style=\"text-align: right;\">\n",
       "      <th></th>\n",
       "      <th>Date</th>\n",
       "      <th>Power (KWatts)</th>\n",
       "      <th>Billing (EGP)</th>\n",
       "    </tr>\n",
       "  </thead>\n",
       "  <tbody>\n",
       "    <tr>\n",
       "      <th>0</th>\n",
       "      <td>22-01-2023 05:48:24</td>\n",
       "      <td>0.38</td>\n",
       "      <td>0.18</td>\n",
       "    </tr>\n",
       "    <tr>\n",
       "      <th>1</th>\n",
       "      <td>22-01-2023 05:48:29</td>\n",
       "      <td>0.14</td>\n",
       "      <td>0.07</td>\n",
       "    </tr>\n",
       "    <tr>\n",
       "      <th>2</th>\n",
       "      <td>22-01-2023 05:48:35</td>\n",
       "      <td>0.88</td>\n",
       "      <td>0.42</td>\n",
       "    </tr>\n",
       "    <tr>\n",
       "      <th>3</th>\n",
       "      <td>22-01-2023 05:48:40</td>\n",
       "      <td>0.21</td>\n",
       "      <td>0.10</td>\n",
       "    </tr>\n",
       "    <tr>\n",
       "      <th>4</th>\n",
       "      <td>22-01-2023 05:48:44</td>\n",
       "      <td>0.30</td>\n",
       "      <td>0.14</td>\n",
       "    </tr>\n",
       "  </tbody>\n",
       "</table>\n",
       "</div>"
      ],
      "text/plain": [
       "                   Date  Power (KWatts)  Billing (EGP)\n",
       "0  22-01-2023 05:48:24             0.38           0.18\n",
       "1  22-01-2023 05:48:29             0.14           0.07\n",
       "2  22-01-2023 05:48:35             0.88           0.42\n",
       "3  22-01-2023 05:48:40             0.21           0.10\n",
       "4  22-01-2023 05:48:44             0.30           0.14"
      ]
     },
     "execution_count": 14,
     "metadata": {},
     "output_type": "execute_result"
    }
   ],
   "source": [
    "df.head()"
   ]
  },
  {
   "cell_type": "code",
   "execution_count": 15,
   "id": "4a3f594d",
   "metadata": {},
   "outputs": [
    {
     "data": {
      "text/html": [
       "<div>\n",
       "<style scoped>\n",
       "    .dataframe tbody tr th:only-of-type {\n",
       "        vertical-align: middle;\n",
       "    }\n",
       "\n",
       "    .dataframe tbody tr th {\n",
       "        vertical-align: top;\n",
       "    }\n",
       "\n",
       "    .dataframe thead th {\n",
       "        text-align: right;\n",
       "    }\n",
       "</style>\n",
       "<table border=\"1\" class=\"dataframe\">\n",
       "  <thead>\n",
       "    <tr style=\"text-align: right;\">\n",
       "      <th></th>\n",
       "      <th>Date</th>\n",
       "      <th>Power (KWatts)</th>\n",
       "      <th>Billing (EGP)</th>\n",
       "    </tr>\n",
       "  </thead>\n",
       "  <tbody>\n",
       "    <tr>\n",
       "      <th>694</th>\n",
       "      <td>23-01-2023 20:13:35</td>\n",
       "      <td>0.04</td>\n",
       "      <td>0.02</td>\n",
       "    </tr>\n",
       "    <tr>\n",
       "      <th>695</th>\n",
       "      <td>23-01-2023 20:13:43</td>\n",
       "      <td>0.04</td>\n",
       "      <td>0.02</td>\n",
       "    </tr>\n",
       "    <tr>\n",
       "      <th>696</th>\n",
       "      <td>23-01-2023 20:13:45</td>\n",
       "      <td>0.04</td>\n",
       "      <td>0.02</td>\n",
       "    </tr>\n",
       "    <tr>\n",
       "      <th>697</th>\n",
       "      <td>23-01-2023 20:13:53</td>\n",
       "      <td>0.04</td>\n",
       "      <td>0.02</td>\n",
       "    </tr>\n",
       "    <tr>\n",
       "      <th>698</th>\n",
       "      <td>23-01-2023 20:13:55</td>\n",
       "      <td>0.04</td>\n",
       "      <td>0.02</td>\n",
       "    </tr>\n",
       "  </tbody>\n",
       "</table>\n",
       "</div>"
      ],
      "text/plain": [
       "                     Date  Power (KWatts)  Billing (EGP)\n",
       "694  23-01-2023 20:13:35             0.04           0.02\n",
       "695  23-01-2023 20:13:43             0.04           0.02\n",
       "696  23-01-2023 20:13:45             0.04           0.02\n",
       "697  23-01-2023 20:13:53             0.04           0.02\n",
       "698  23-01-2023 20:13:55             0.04           0.02"
      ]
     },
     "execution_count": 15,
     "metadata": {},
     "output_type": "execute_result"
    }
   ],
   "source": [
    "df.tail()"
   ]
  },
  {
   "cell_type": "code",
   "execution_count": null,
   "id": "f72c40eb",
   "metadata": {},
   "outputs": [],
   "source": []
  }
 ],
 "metadata": {
  "kernelspec": {
   "display_name": "Python 3 (ipykernel)",
   "language": "python",
   "name": "python3"
  },
  "language_info": {
   "codemirror_mode": {
    "name": "ipython",
    "version": 3
   },
   "file_extension": ".py",
   "mimetype": "text/x-python",
   "name": "python",
   "nbconvert_exporter": "python",
   "pygments_lexer": "ipython3",
   "version": "3.9.13"
  }
 },
 "nbformat": 4,
 "nbformat_minor": 5
}
